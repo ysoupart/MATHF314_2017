{
 "cells": [
  {
   "cell_type": "markdown",
   "metadata": {},
   "source": [
    "$\\underline{\\textbf{Travail personnel 1 : Kepler et Runge-Kutta 4}}$"
   ]
  },
  {
   "cell_type": "markdown",
   "metadata": {},
   "source": [
    "On importe les librairies nécéssaires"
   ]
  },
  {
   "cell_type": "code",
   "execution_count": 325,
   "metadata": {},
   "outputs": [],
   "source": [
    "from math import sin, cos, log, ceil\n",
    "import numpy\n",
    "from matplotlib import pyplot\n",
    "%matplotlib inline\n",
    "from matplotlib import rcParams\n",
    "rcParams['font.family'] = 'serif'\n",
    "rcParams['font.size'] = 16"
   ]
  },
  {
   "cell_type": "markdown",
   "metadata": {},
   "source": [
    "Création de la grille, déclaration des variables et des différents objets dont nous aurons besoin : "
   ]
  },
  {
   "cell_type": "code",
   "execution_count": 330,
   "metadata": {},
   "outputs": [],
   "source": [
    "k=2000000 # Nombre de segments dans la grille\n",
    "dt=1 # Taille du pas en [s]\n",
    "O=int(k/dt) # Nombre de pas\n",
    "t=numpy.linspace(0,dt,k) # Création de la grille\n",
    "y0=0 # Composante y de la distance Terre-Lune initiale en [m]\n",
    "vy0=1083.434974 # Composante y de la vitesse initiale en [m.s-1]\n",
    "x0=-3626*10**5 # Composante x de la distance Terre-Lune initiale en [m]\n",
    "vx0=0 # Composante x de la vitesse initiale en [m.s-1]\n",
    "u=numpy.array([x0,y0,vx0,vy0]) # Vecteur position-vitesse en fonction du temps , initialisé en t0=0[s]\n",
    "G=6.67408*10**(-11) # Constante gravitationnelle en [kg.m3.s-1]\n",
    "mt=5.972*10**(24) # Masse de la Terre en [kg]\n",
    "ml=7.348*10**(22) # Masse de la Lune en [kg]\n",
    "M=mt+ml # Masse totale du système Terre-Lune en [kg]\n",
    "ax0=-mt*G/((x0)**2) # Composante x de l'accélération initiale en [m.s-2]\n",
    "ay0=0 # Composante y de l'accélération initiale en [m.s-2]\n",
    "du=numpy.array([vx0,vy0,ax0,ay0]) # Vecteur vitesse-accélération en fonction du temps , initialisé en t0=0\n",
    "vy=numpy.zeros(O) # Vecteur d'évolution de la composante y de la vitesse en [m.s-1]\n",
    "y=numpy.zeros(O) # Vecteur d'évolution de la composante y de la position en [m]\n",
    "vx=numpy.zeros(O) # Vecteur d'évolution de la composante x de la vitesse en [m.s-1]\n",
    "x=numpy.zeros(O) # Vecteur d'évolution de la composante x de la position en [m]\n",
    "vx[0]=vx0 # On ajuste la condition initiale\n",
    "x[0]=x0 # On ajuste la condition initiale\n",
    "y[0]=y0 # On ajuste la condition initiale \n",
    "vy[0]=vy0 # On ajuste la condition initiale "
   ]
  },
  {
   "cell_type": "markdown",
   "metadata": {},
   "source": [
    "$\\textbf{QUESTION 1}$ \n",
    "\n",
    "Afin de travailler dans un repère inertiel, nous nous plaçons dans le centre de masse du système Terre-Lune. Dans ce référentiel, les équation du mouvement de la Terre et de la Lune sont respectivement données par :\n",
    "\n",
    "$m_t\\ddot{\\vec{x_t}}=-\\frac{Gm_tm_l}{r^2}\\vec{u_r}$\n",
    "\n",
    "$m_l\\ddot{\\vec{x_l}}=\\frac{Gm_tm_l}{r^2}\\vec{u_r}$\n",
    "\n",
    "On définit à présent une fonction reproduisant la méthode itérative de résolution RK4 pour l'équation différentielle d'ordre 2\n",
    "\n",
    "$$\\quad \\ddot{\\vec{r}}=-\\frac{G(m_l+m_t)}{r^3}\\vec{r} \\quad\\quad avec\\quad \\quad \\ddot{\\vec{r}}\\equiv\\ddot{\\vec{x_l}}-\\ddot{\\vec{x_t}}$$ \n",
    "\n",
    "décrivant le mouvement relatif de la Lune et de la Terre et ramenée à une équation d'ordre 1 pour le vecteur u. A chaque itération le vecteur u solution de l'équation différentielle et donc ses composantes ( position et vitesse relatives ) sont calculées à la valeur suivante du temps. La fonction retourne les vecteurs donnant les position et vitesse relatives pour chaque valeur du temps appartenant à l'intervalle déterminé par la grille.\n",
    "\n",
    "En deux dimensions, nous avons écrit :              \n",
    "\n",
    "$\\vec{r}=(x)\\vec{u_x}+(y)\\vec{u_y} \\quad$ pour la position relative, \n",
    "\n",
    "$\\vec{v}=(vx)\\vec{u_x}+(vy)\\vec{u_y} \\quad$ pour la vitesse relative, et\n",
    "\n",
    "$\\vec{a}=(ax)\\vec{u_x}+(ay)\\vec{u_y} \\quad$ avec \n",
    "$\\quad ax=-\\frac{G(m_t+m_l)}{(\\sqrt{x^2+y^2})^3}x \\quad (\\star)\\quad$ et $\\quad ay=-\\frac{G(m_t+m_l)}{(\\sqrt{x^2+y^2})^3}y\\quad (\\star\\star) \\quad$ pour l'accélération relative.\n",
    "\n",
    "\n",
    "\n",
    "La fonction applique Runge-Kutta 4 sur l'équation du=f(u) avec un pas de temps dt=1 où f(u) envoie chaque composante de u sur sa dérivée et les composantes de l'accélération sont remplacées par leurs expressions $(\\star)$ et $(\\star \\star)$ \n",
    "\n",
    "Runge-Kutta est appliquée sur chaque composante en même temps, les $\\quad k_i ,\\quad i=1...4\\quad$ sont donc des vecteurs à 4 composantes.\n",
    "\n",
    "Le vecteur u solution est raffiné à chaque pas de temps, et à chaque pas on introduit dans les composantes des positions, vitesses et accélérations leur valeur instantanée. On introduit ces nouvelles valeurs dans du et on recommence l'opération jusqu'à avoir parcouru toute la grille.\n",
    "\n",
    "La fonction retourne les vecteurs position, vitesse et accélération ayant pour composantes leur valeur à chaque pas de temps."
   ]
  },
  {
   "cell_type": "code",
   "execution_count": 303,
   "metadata": {},
   "outputs": [],
   "source": [
    "def RungeKutta4(du,u,mt,vx,vy,x,y,O,dt):\n",
    "\n",
    "    for i in range (1,O):\n",
    "        k1=du\n",
    "        k2=numpy.array([vx[i-1],vy[i-1],-mt*G*(x[i-1]+dt/2*k1[0])/(((x[i-1]+dt/2*k1[0])**2+(y[i-1]+dt/2*k1[1])**2)**(3/2)),-mt*G*(y[i-1]+dt/2*k1[1])/(((y[i-1]+dt/2*k1[1])**2+(x[i-1]+dt/2*k1[0])**2)**(3/2))])\n",
    "        k3=numpy.array([vx[i-1],vy[i-1],-mt*G*(x[i-1]+dt/2*k2[0])/(((x[i-1]+dt/2*k2[0])**2+(y[i-1]+dt/2*k2[1])**2)**(3/2)),-mt*G*(y[i-1]+dt/2*k2[1])/(((x[i-1]+dt/2*k2[0])**2+(y[i-1]+dt/2*k2[1])**2)**(3/2))])\n",
    "        k4=numpy.array([vx[i-1],vy[i-1],-mt*G*(x[i-1]+dt*k3[0])/(((x[i-1]+dt*k3[0])**2+(y[i-1]+dt*k3[1])**2)**(3/2)),-mt*G*(y[i-1]+dt*k3[1])/(((x[i-1]+dt*k3[0])**2+(y[i-1]+dt*k3[1])**2)**(3/2))])\n",
    "        u= u + dt * (k1+2*k2+2*k3+k4)/6\n",
    "        x[i]=u[0]\n",
    "        vx[i]=u[2]\n",
    "        y[i]=u[1]\n",
    "        vy[i]=u[3]\n",
    "        du=numpy.array([vx[i],vy[i],-mt*G*x[i]/(((x[i])**2+(y[i])**2)**(3/2)),-mt*G*y[i]/(((x[i])**2+(y[i])**2)**(3/2))])\n",
    "    return (x,y,vx,vy)"
   ]
  },
  {
   "cell_type": "code",
   "execution_count": 304,
   "metadata": {},
   "outputs": [
    {
     "data": {
      "text/plain": [
       "(array([ -3.62600000e+08,  -3.62600000e+08,  -3.62600000e+08, ...,\n",
       "         -1.91659700e+08,  -1.91660580e+08,  -1.91661460e+08]),\n",
       " array([  0.00000000e+00,   1.08343497e+03,   2.16686995e+03, ...,\n",
       "         -3.18815167e+08,  -3.18814582e+08,  -3.18813996e+08]),\n",
       " array([  0.00000000e+00,   2.05207391e-03,   5.12085986e-03, ...,\n",
       "         -8.80230457e+02,  -8.80228954e+02,  -8.80227452e+02]),\n",
       " array([ 1083.434974  ,  1083.434974  ,  1083.43497398, ...,   585.5453562 ,\n",
       "          585.54785521,   585.55035421]))"
      ]
     },
     "execution_count": 304,
     "metadata": {},
     "output_type": "execute_result"
    }
   ],
   "source": [
    "\n",
    "RungeKutta4(du,u,mt+ml,vx,vy,x,y,O,dt)"
   ]
  },
  {
   "cell_type": "markdown",
   "metadata": {},
   "source": [
    "$\\textbf{QUESTION 2 ET 3}$\n",
    "\n",
    "On calcule le demi grand-axe a en [m] , le demi petit-axe b en [m], l'excentricité e et la période P en jours [j].\n",
    "\n",
    "Pour cela on extrait le moment t = p [s] auquel la lune a parcouru la moitié supérieure de l'ellipse représentant sa trajectoire. En effet, passé ce lieu, la composante y de sa position deviendra négative et la variable p n'est plus assignée. \n",
    "On trouve donc l'expression du demi grand-axe a et de la distance c entre le foyer Terre et le centre de l'ellipse grâce aux relations de symétrie. Ayant ces valeurs , on peut calculer \n",
    "\n",
    "- le demi petit-axe : $\\quad b=\\sqrt{a^2-c^2}$\n",
    "\n",
    "- l'excentricité : $\\quad e=\\frac{c}{a}$\n",
    "\n",
    "La période est donnée par le double du temps mis pour parcourir la moitié de l'ellipse ."
   ]
  },
  {
   "cell_type": "code",
   "execution_count": 306,
   "metadata": {},
   "outputs": [
    {
     "name": "stdout",
     "output_type": "stream",
     "text": [
      "383664897.799 383086183.363 21064897.7992 0.0549044176834 1175348 27.20712962962963\n"
     ]
    }
   ],
   "source": [
    "for i in range (O):\n",
    "    if y[i]>0 :\n",
    "        p=i\n",
    "l=x[p]\n",
    "a= (l- x0)/2\n",
    "c= (l+x0)/2\n",
    "bsq=a**2-c**2\n",
    "b=numpy.sqrt(bsq)\n",
    "e = c/a\n",
    "Prd=(p/86400)*2\n",
    "print (a,b,c,e,p,Prd)\n"
   ]
  },
  {
   "cell_type": "markdown",
   "metadata": {},
   "source": [
    "Trajectoire de la Lune dans le plan xy"
   ]
  },
  {
   "cell_type": "code",
   "execution_count": 305,
   "metadata": {},
   "outputs": [
    {
     "data": {
      "text/plain": [
       "<matplotlib.text.Text at 0x7fde1cdd8e48>"
      ]
     },
     "execution_count": 305,
     "metadata": {},
     "output_type": "execute_result"
    },
    {
     "data": {
      "image/png": "[encoded data removed]",
      "text/plain": [
       "<matplotlib.figure.Figure at 0x7fde1cc01a20>"
      ]
     },
     "metadata": {},
     "output_type": "display_data"
    }
   ],
   "source": [
    "pyplot.plot(x, y, color='#003366', ls='-', lw=3)\n",
    "pyplot.ylabel('Position y')\n",
    "pyplot.xlabel('Position x')"
   ]
  },
  {
   "cell_type": "markdown",
   "metadata": {},
   "source": [
    "$\\textbf{Question 4}$\n",
    "\n",
    "On commence par définir une fonction qui effectue une seule incrémentation dans la méthode de Runge-Kutta"
   ]
  },
  {
   "cell_type": "code",
   "execution_count": 331,
   "metadata": {
    "collapsed": true
   },
   "outputs": [],
   "source": [
    "def RungeKutta4Step(du,u,mt,O,dt):\n",
    "    k1=du\n",
    "    k2=numpy.array([u[2],u[3],-mt*G*(u[0]+dt/2*k1[0])/(((u[0]+dt/2*k1[0])**2+(u[1]+dt/2*k1[1])**2)**(3/2)),-mt*G*(u[1]+dt/2*k1[1])/(((u[1]+dt/2*k1[1])**2+(u[0]+dt/2*k1[0])**2)**(3/2))])\n",
    "    k3=numpy.array([u[2],u[3],-mt*G*(u[0]+dt/2*k2[0])/(((u[0]+dt/2*k2[0])**2+(u[1]+dt/2*k2[1])**2)**(3/2)),-mt*G*(u[1]+dt/2*k2[1])/(((u[0]+dt/2*k2[0])**2+(u[1]+dt/2*k2[1])**2)**(3/2))])\n",
    "    k4=numpy.array([u[2],u[3],-mt*G*(u[0]+dt*k3[0])/(((u[0]+dt*k3[0])**2+(u[1]+dt*k3[1])**2)**(3/2)),-mt*G*(u[1]+dt*k3[1])/(((u[0]+dt*k3[0])**2+(u[1]+dt*k3[1])**2)**(3/2))])\n",
    "    u= u + dt * (k1+2*k2+2*k3+k4)/6\n",
    "    du=numpy.array([u[2],u[3],-mt*G*u[0]/(((u[0])**2+(u[1])**2)**(3/2)),-mt*G*u[1]/(((u[0])**2+(u[1])**2)**(3/2))])\n",
    "    return u,du"
   ]
  },
  {
   "cell_type": "markdown",
   "metadata": {},
   "source": [
    "On définit une fonction renvoyant la différence entre la solution avec la grille courante et la solution de référence."
   ]
  },
  {
   "cell_type": "code",
   "execution_count": 332,
   "metadata": {
    "collapsed": true
   },
   "outputs": [],
   "source": [
    "def get_diffgrid(u_current, u_fine, dt):\n",
    "\n",
    "    N_current = len(u_current[:,0])\n",
    "    N_fine = len(u_fine[:,0])\n",
    "   \n",
    "    grid_size_ratio = ceil(N_fine/N_current)\n",
    "    \n",
    "    diffgrid = dt * numpy.sum( numpy.abs(\\\n",
    "            u_current[:,2]- u_fine[::grid_size_ratio,2])) \n",
    "    \n",
    "    return diffgrid"
   ]
  },
  {
   "cell_type": "markdown",
   "metadata": {},
   "source": [
    "Calcul pour l'ordre de convergence :"
   ]
  },
  {
   "cell_type": "code",
   "execution_count": 333,
   "metadata": {},
   "outputs": [
    {
     "ename": "ValueError",
     "evalue": "math domain error",
     "output_type": "error",
     "traceback": [
      "\u001b[1;31m---------------------------------------------------------------------------\u001b[0m",
      "\u001b[1;31mValueError\u001b[0m                                Traceback (most recent call last)",
      "\u001b[1;32m<ipython-input-333-b0b029c44459>\u001b[0m in \u001b[0;36m<module>\u001b[1;34m()\u001b[0m\n\u001b[0;32m     27\u001b[0m \u001b[1;33m\u001b[0m\u001b[0m\n\u001b[0;32m     28\u001b[0m \u001b[1;33m\u001b[0m\u001b[0m\n\u001b[1;32m---> 29\u001b[1;33m \u001b[0mp\u001b[0m \u001b[1;33m=\u001b[0m \u001b[1;33m(\u001b[0m\u001b[0mlog\u001b[0m\u001b[1;33m(\u001b[0m\u001b[0mdiffgrid2\u001b[0m\u001b[1;33m[\u001b[0m\u001b[1;36m1\u001b[0m\u001b[1;33m]\u001b[0m\u001b[1;33m)\u001b[0m \u001b[1;33m-\u001b[0m \u001b[0mlog\u001b[0m\u001b[1;33m(\u001b[0m\u001b[0mdiffgrid2\u001b[0m\u001b[1;33m[\u001b[0m\u001b[1;36m0\u001b[0m\u001b[1;33m]\u001b[0m\u001b[1;33m)\u001b[0m\u001b[1;33m)\u001b[0m \u001b[1;33m/\u001b[0m \u001b[0mlog\u001b[0m\u001b[1;33m(\u001b[0m\u001b[0mr\u001b[0m\u001b[1;33m)\u001b[0m\u001b[1;33m\u001b[0m\u001b[0m\n\u001b[0m\u001b[0;32m     30\u001b[0m \u001b[1;33m\u001b[0m\u001b[0m\n\u001b[0;32m     31\u001b[0m \u001b[0mprint\u001b[0m\u001b[1;33m(\u001b[0m\u001b[1;34m'The order of convergence is p = {:.3f}'\u001b[0m\u001b[1;33m.\u001b[0m\u001b[0mformat\u001b[0m\u001b[1;33m(\u001b[0m\u001b[0mp\u001b[0m\u001b[1;33m)\u001b[0m\u001b[1;33m)\u001b[0m\u001b[1;33m;\u001b[0m\u001b[1;33m\u001b[0m\u001b[0m\n",
      "\u001b[1;31mValueError\u001b[0m: math domain error"
     ]
    }
   ],
   "source": [
    "r = 2\n",
    "dt = 100\n",
    "\n",
    "dt_values2 = numpy.array([dt, r*dt, r**2*dt])\n",
    "\n",
    "u_values2 = numpy.empty_like(dt_values2, dtype=numpy.ndarray)\n",
    "\n",
    "diffgrid2 = numpy.empty(2)\n",
    "\n",
    "for i, dt in enumerate(dt_values2):\n",
    "    \n",
    "    N = int(k/dt) + 1   \n",
    "\n",
    "    q = numpy.empty((N, 4))# store the value of u related to one grid\n",
    "    q[0] = numpy.array([x0,y0,vx0,vy0])\n",
    "\n",
    "    # time loop\n",
    "    for k in range(N-1):\n",
    "\n",
    "        q[k+1] = RungeKutta4Step(du,u,mt+ml,O,dt)[0]         ### call euler_step() ###\n",
    "    u_values2[i] = q\n",
    "    \n",
    "diffgrid2[0] = get_diffgrid(u_values2[1], u_values2[0], dt_values2[1])\n",
    "\n",
    "\n",
    "diffgrid2[1] = get_diffgrid(u_values2[2], u_values2[1], dt_values2[2])\n",
    "\n",
    "\n",
    "p = (log(diffgrid2[1]) - log(diffgrid2[0])) / log(r)\n",
    "\n",
    "print('The order of convergence is p = {:.3f}'.format(p));"
   ]
  },
  {
   "cell_type": "markdown",
   "metadata": {},
   "source": [
    "$\\textbf{QUESTION 5}$\n",
    "\n",
    "On pose les conditions initiales du nouveau problème.\n",
    "\n",
    "On réinitialise les vecteurs u et du des positions, vitesses et accélérations de la lune."
   ]
  },
  {
   "cell_type": "code",
   "execution_count": 195,
   "metadata": {},
   "outputs": [],
   "source": [
    "k=3000000\n",
    "O=int(k/dt)\n",
    "dtb=1\n",
    "N=86400*14\n",
    "n=int(N/dtb)\n",
    "\n",
    "xl0=max(x) # Composante x de la position initiale de la Lune en [m]\n",
    "yl0=0 # Composante y de la position initiale de la Lune en [m]\n",
    "vyl0=vy[p] # Composante y de la vitesse initiale de la Lune en [m.s-1]\n",
    "vxl0=vx[p] # Composante x de la vitesse initiale de la Lune en [m.s-1]\n",
    "vxa=numpy.zeros(n) # Composante x de la vitesse de l'astéroïde en [m.s-1]\n",
    "vya=numpy.zeros(n) # Composante y de la vitesse de l'astéroïde en [m.s-1]\n",
    "xa=numpy.zeros(n) # Composante x de la position de l'astéroïde en [m]\n",
    "ya=numpy.zeros(n) # Composante y de la position de l'astéroïde en [m]\n",
    "axa=numpy.zeros(n) # Composante x de l'accélération de l'astéroïde en [m.s-2]\n",
    "aya=numpy.zeros(n) # Composante y de l'accélération de l'astéroïde en [m.s-2]\n",
    "xa0=c # Composante x de la position initiale de l'astéroïde en [m]\n",
    "ya0=0 # Composante y de la position initiale de l'astéroïde en [m]\n",
    "ya[0]=ya0 # initialisation du vecteur de composantes y de la position\n",
    "xa[0]=xa0 # initialisation du vecteur de composantes x de la position\n",
    "vxa0=-500 # Composante x de la vitesse initiale de l'astéroïde en [m.s-1]\n",
    "vya0=500 # Composante y de la vitesse initiale de l'astéroïde en [m.s-1]\n",
    "vya[0]=vya0 # initialisation du vecteur de composantes y de la vitesse\n",
    "vxa[0]=vxa0 # initialisation du vecteur de composantes x de la vitesse\n",
    "axa0=-(mt)*G*xa0/(((xa0)**2+(ya0)**2))**3/2-(ml)*G*(xa0-xl0)/(((xa0-xl0)**2+(ya0-yl0)**2)**(3/2)) # Composante x de l'accélération initiale de l'astéroïde en [m.s-2]\n",
    "aya0=0 # Composante y de l'accélération initiale de l'astéroïde en [m.s-2]\n",
    "aya[0]=aya0 # initialisation du vecteur de composantes y de l'accélération\n",
    "axa[0]=axa0 # initialisation du vecteur de composantes x de l'accélération\n",
    "ua=numpy.array([xa0,ya0,vxa0,vya0]) # Vecteur position-vitesse de l'astéroïde initialisé en t=0\n",
    "dua=numpy.array([vxa0,vya0,axa0,aya0]) # Vecteur vitesse-accélération de l'astéroïde initialisé en t=0\n",
    "\n",
    "\n",
    "\n",
    "u=numpy.array([x0,y0,vx0,vy0])\n",
    "ax0=-mt*G/((x0)**2)\n",
    "du=numpy.array([vx0,vy0,ax0,ay0])\n",
    "vy=numpy.zeros(O)\n",
    "y=numpy.zeros(O)\n",
    "vx=numpy.zeros(O)\n",
    "x=numpy.zeros(O)\n",
    "ay=numpy.zeros(O)\n",
    "ax=numpy.zeros(O)\n",
    "vx[0]=vx0\n",
    "x[0]=x0\n",
    "y[0]=y0\n",
    "vy[0]=vy0\n"
   ]
  },
  {
   "cell_type": "markdown",
   "metadata": {},
   "source": [
    "Comme précédemment, on définit une fonction appliquant la méthode de Runge-Kutta afin de résoudre l'équation du mouvement de l'astéroïde soumis à l'attraction de la Terre et de la Lune :\n",
    "\n",
    "$$ \\left\\{\n",
    "          \\begin{array}{ll}\n",
    "          \\ddot{x}=-\\frac{m_tG}{(\\sqrt{x^2+y^2})^3}x - \\frac{m_lG}{(\\sqrt{(x-x_l)^2+(y-y_l)^2})^3}(x-x_l)\\\\\n",
    "          \\ddot{y}=-\\frac{m_tG}{(\\sqrt{x^2+y^2})^3}y - \\frac{m_lG}{(\\sqrt{(x-x_l)^2+(y-y_l)^2})^3}(y-y_l)\n",
    "          \\end{array}\n",
    "   \\right.\n",
    "   $$"
   ]
  },
  {
   "cell_type": "code",
   "execution_count": 196,
   "metadata": {
    "collapsed": true
   },
   "outputs": [],
   "source": [
    "def RungeKutta4Lune(du,u,vx,vy,x,y,axla,ayla,xl,yl,w,dt):\n",
    "    for i in range (1,w):\n",
    "        k1=du\n",
    "        k2=numpy.array([vx[i-1],vy[i-1],-mt*G*(x[i-1]+dt/2*k1[0])/(((x[i-1]+dt/2*k1[0])**2+(y[i-1]+dt/2*k1[1])**2)**(3/2))-ml*G*(x[i-1]-xl[i+p-1]+dt/2*k1[0])/(((x[i-1]-xl[i+p-1]+dt/2*k1[0])**2+(y[i-1]-yl[i+p-1]+dt/2*k1[1])**2)**(3/2)),-mt*G*(y[i-1]+dt/2*k1[3])/(((y[i-1]+dt/2*k1[1])**2+(x[i-1]+dt/2*k1[0])**2)**(3/2))-ml*G*(y[i-1]-yl[i+p-1]+dt/2*k1[1])/(((y[i-1]-yl[i+p-1]+dt/2*k1[1])**2+(x[i-1]-xl[i+p-1]+dt*k1[0])**2)**(3/2))])\n",
    "        k3=numpy.array([vx[i-1],vy[i-1],-mt*G*(x[i-1]+dt/2*k2[0])/(((x[i-1]+dt/2*k2[0])**2+(y[i-1]+dt/2*k2[1])**2)**(3/2))-ml*G*(x[i-1]-xl[i+p-1]+dt/2*k2[0])/(((x[i-1]-xl[i+p-1]+dt/2*k2[0])**2+(y[i-1]-yl[i+p-1]+dt/2*k2[1])**2)**(3/2)),-mt*G*(y[i-1]+dt/2*k2[3])/(((x[i-1]+dt/2*k2[0])**2+(y[i-1]+dt/2*k2[1])**2)**(3/2))-ml*G*(y[i-1]-yl[i+p-1]+dt/2*k2[1])/(((x[i-1]-xl[i+p-1]+dt/2*k2[0])**2+(y[i-1]-yl[i+p-1]+dt*k2[1])**2)**(3/2))])\n",
    "        k4=numpy.array([vx[i-1],vy[i-1],-mt*G*(x[i-1]+dt*k3[0])/(((x[i-1]+dt*k3[2])**2+(y[i-1]+dt*k3[1])**2)**(3/2))-ml*G*(x[i-1]-xl[i+p-1]+dt*k3[0])/(((x[i-1]-xl[i+p-1]+dt*k3[0])**2+(y[i-1]-yl[i+p-1]+dt*k3[1])**2)**(3/2)),-mt*G*(y[i-1]+dt*k3[1])/(((x[i-1]+dt*k3[2])**2+(y[i-1]+dt*k3[1])**2)**(3/2))-ml*G*(y[i-1]-yl[i+p-1]+dt*k3[1])/(((x[i-1]-xl[i+p-1]+dt*k3[0])**2+(y[i-1]-yl[i+p-1]+dt*k3[1])**2)**(3/2))])\n",
    "        u= u + dt * (k1+2*k2+2*k3+k4)/6\n",
    "        x[i]=u[0]\n",
    "        vx[i]=u[2]\n",
    "        y[i]=u[1]\n",
    "        vy[i]=u[3]\n",
    "        du=numpy.array([vx[i],vy[i],(-mt*G*x[i]/(((u[0])**2+(u[1])**2)**(3/2))-ml*G*(u[0]-xl[i+p])/(((u[0]-xl[i+p])**2+(u[1]-yl[i+p])**2)**(3/2))),(-mt*G*u[1]/(((u[0])**2+(u[1])**2)**(3/2))-ml*G*(u[1]-yl[i+p])/(((u[0]-xl[i+p])**2+(u[1]-yl[i+p])**2)**(3/2)))])\n",
    "        axla[i]=du[2]\n",
    "        ayla[i]=du[3]\n",
    "    return (x,y,vx,vy,axla,ayla)"
   ]
  },
  {
   "cell_type": "code",
   "execution_count": 197,
   "metadata": {},
   "outputs": [
    {
     "data": {
      "text/plain": [
       "(array([ -3.62600000e+08,  -3.62600000e+08,  -3.62600000e+08, ...,\n",
       "          1.04133264e+08,   1.04134253e+08,   1.04135242e+08]),\n",
       " array([  0.00000000e+00,   1.08343497e+03,   2.16686995e+03, ...,\n",
       "          3.74005833e+08,   3.74005614e+08,   3.74005395e+08]),\n",
       " array([  0.00000000e+00,   2.05207391e-03,   5.12085986e-03, ...,\n",
       "          9.89405091e+02,   9.89404373e+02,   9.89403655e+02]),\n",
       " array([ 1083.434974  ,  1083.434974  ,  1083.43497398, ...,  -219.0900272 ,\n",
       "         -219.09260605,  -219.0951849 ]),\n",
       " array([ 0.        ,  0.00306879,  0.00306879, ..., -0.00071802,\n",
       "        -0.00071803, -0.00071803]),\n",
       " array([  0.00000000e+00,  -9.16941541e-09,  -1.83388308e-08, ...,\n",
       "         -2.57885263e-03,  -2.57885004e-03,  -2.57884744e-03]))"
      ]
     },
     "execution_count": 197,
     "metadata": {},
     "output_type": "execute_result"
    }
   ],
   "source": [
    "\n",
    "RungeKutta4(du,u,mt+ml,vx,vy,x,y,O,dt)"
   ]
  },
  {
   "cell_type": "code",
   "execution_count": 198,
   "metadata": {},
   "outputs": [
    {
     "data": {
      "text/plain": [
       "<matplotlib.text.Text at 0x7fde1cd63588>"
      ]
     },
     "execution_count": 198,
     "metadata": {},
     "output_type": "execute_result"
    },
    {
     "data": {
      "image/png": "[encoded data removed]",
      "text/plain": [
       "<matplotlib.figure.Figure at 0x7fde1cdb93c8>"
      ]
     },
     "metadata": {},
     "output_type": "display_data"
    }
   ],
   "source": [
    "pyplot.plot(x, y, color='#003366', ls='-', lw=3)\n",
    "pyplot.ylabel('Position y')\n",
    "pyplot.xlabel('Position x')"
   ]
  },
  {
   "cell_type": "code",
   "execution_count": 199,
   "metadata": {},
   "outputs": [
    {
     "data": {
      "text/plain": [
       "(array([  2.10648978e+07,   2.10643978e+07,   2.10638969e+07, ...,\n",
       "          3.16309454e+10,   3.16309716e+10,   3.16309979e+10]),\n",
       " array([  0.00000000e+00,   5.00000000e+02,   9.99999996e+02, ...,\n",
       "         -5.38963947e+10,  -5.38964394e+10,  -5.38964842e+10]),\n",
       " array([  -500.        ,   -500.89821758,   -501.79647782, ...,\n",
       "         26256.3096189 ,  26256.30961885,  26256.30961879]),\n",
       " array([   500.        ,    499.99999645,    499.99997157, ...,\n",
       "        -44737.98693153, -44737.98693144, -44737.98693135]),\n",
       " array([ -8.98206898e-01,  -8.98249540e-01,  -8.98292261e-01, ...,\n",
       "         -5.22939976e-08,  -5.22939107e-08,  -5.22938239e-08]),\n",
       " array([  0.00000000e+00,  -2.13223906e-05,  -4.26478613e-05, ...,\n",
       "          8.90929576e-08,   8.90928097e-08,   8.90926618e-08]))"
      ]
     },
     "execution_count": 199,
     "metadata": {},
     "output_type": "execute_result"
    }
   ],
   "source": [
    "\n",
    "RungeKutta4Lune(dua,ua,vxa,vya,xa,ya,axa,aya,x,y,n,dtb)"
   ]
  },
  {
   "cell_type": "code",
   "execution_count": 206,
   "metadata": {},
   "outputs": [
    {
     "data": {
      "text/plain": [
       "(-5000000.0, 30000000)"
      ]
     },
     "execution_count": 206,
     "metadata": {},
     "output_type": "execute_result"
    },
    {
     "data": {
      "image/png": "[encoded data removed]",
      "text/plain": [
       "<matplotlib.figure.Figure at 0x7fde1cd89c88>"
      ]
     },
     "metadata": {},
     "output_type": "display_data"
    }
   ],
   "source": [
    "pyplot.plot(xa,ya , color='#003366', ls='-', lw=3)\n",
    "pyplot.ylabel('Position y')\n",
    "pyplot.xlabel('Position x')\n",
    "pyplot.ylim(-0.5*10**7,2.5*10**6)\n",
    "pyplot.xlim(-0.5*10**7,3*10**7)\n",
    " "
   ]
  },
  {
   "cell_type": "markdown",
   "metadata": {},
   "source": [
    "Q6"
   ]
  },
  {
   "cell_type": "code",
   "execution_count": null,
   "metadata": {
    "scrolled": true
   },
   "outputs": [],
   "source": []
  },
  {
   "cell_type": "code",
   "execution_count": null,
   "metadata": {},
   "outputs": [],
   "source": []
  },
  {
   "cell_type": "code",
   "execution_count": null,
   "metadata": {},
   "outputs": [],
   "source": []
  },
  {
   "cell_type": "code",
   "execution_count": null,
   "metadata": {},
   "outputs": [],
   "source": []
  },
  {
   "cell_type": "code",
   "execution_count": null,
   "metadata": {
    "collapsed": true
   },
   "outputs": [],
   "source": []
  },
  {
   "cell_type": "code",
   "execution_count": null,
   "metadata": {
    "collapsed": true
   },
   "outputs": [],
   "source": []
  }
 ],
 "metadata": {
  "anaconda-cloud": {},
  "kernelspec": {
   "display_name": "Python 3",
   "language": "python",
   "name": "python3"
  },
  "language_info": {
   "codemirror_mode": {
    "name": "ipython",
    "version": 3
   },
   "file_extension": ".py",
   "mimetype": "text/x-python",
   "name": "python",
   "nbconvert_exporter": "python",
   "pygments_lexer": "ipython3",
   "version": "3.6.3"
  }
 },
 "nbformat": 4,
 "nbformat_minor": 1
}
