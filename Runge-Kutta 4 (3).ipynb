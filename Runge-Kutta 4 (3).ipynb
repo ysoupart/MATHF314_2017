{
 "cells": [
  {
   "cell_type": "markdown",
   "metadata": {},
   "source": [
    "$\\underline{\\textbf{Travail personnel 1 : Kepler et Runge-Kutta 4}}$"
   ]
  },
  {
   "cell_type": "markdown",
   "metadata": {},
   "source": [
    "On importe les librairies nécéssaires"
   ]
  },
  {
   "cell_type": "code",
   "execution_count": 1,
   "metadata": {
    "collapsed": true
   },
   "outputs": [],
   "source": [
    "from math import sin, cos, log, ceil\n",
    "import numpy\n",
    "from matplotlib import pyplot\n",
    "%matplotlib inline\n",
    "from matplotlib import rcParams\n",
    "rcParams['font.family'] = 'serif'\n",
    "rcParams['font.size'] = 16"
   ]
  },
  {
   "cell_type": "markdown",
   "metadata": {},
   "source": [
    "Création de la grille, déclaration des variables et des différents objets dont nous aurons besoin : "
   ]
  },
  {
   "cell_type": "code",
   "execution_count": 2,
   "metadata": {
    "collapsed": true
   },
   "outputs": [],
   "source": [
    "k=2000000 # Nombre de segments dans la grille\n",
    "dt=1 # Taille du pas en [s]\n",
    "O=int(k/dt) # Nombre de pas\n",
    "t=numpy.linspace(0,dt,k) # Création de la grille\n",
    "y0=0 # Composante y de la distance Terre-Lune initiale en [m]\n",
    "vy0=1083.434974 # Composante y de la vitesse initiale en [m.s-1]\n",
    "x0=-3626*10**5 # Composante x de la distance Terre-Lune initiale en [m]\n",
    "vx0=0 # Composante x de la vitesse initiale en [m.s-1]\n",
    "u=numpy.array([x0,y0,vx0,vy0]) # Vecteur position-vitesse en fonction du temps , initialisé en t0=0[s]\n",
    "G=6.67408*10**(-11) # Constante gravitationnelle en [kg.m3.s-1]\n",
    "mt=5.972*10**(24) # Masse de la Terre en [kg]\n",
    "ml=7.348*10**(22) # Masse de la Lune en [kg]\n",
    "M=mt+ml # Masse totale du système Terre-Lune en [kg]\n",
    "ax0=-mt*G/((x0)**2) # Composante x de l'accélération initiale en [m.s-2]\n",
    "ay0=0 # Composante y de l'accélération initiale en [m.s-2]\n",
    "du=numpy.array([vx0,vy0,ax0,ay0]) # Vecteur vitesse-accélération en fonction du temps , initialisé en t0=0\n",
    "vy=numpy.zeros(O) # Vecteur d'évolution de la composante y de la vitesse en [m.s-1]\n",
    "y=numpy.zeros(O) # Vecteur d'évolution de la composante y de la position en [m]\n",
    "vx=numpy.zeros(O) # Vecteur d'évolution de la composante x de la vitesse en [m.s-1]\n",
    "x=numpy.zeros(O) # Vecteur d'évolution de la composante x de la position en [m]\n",
    "vx[0]=vx0 # On ajuste la condition initiale\n",
    "x[0]=x0 # On ajuste la condition initiale\n",
    "y[0]=y0 # On ajuste la condition initiale \n",
    "vy[0]=vy0 # On ajuste la condition initiale "
   ]
  },
  {
   "cell_type": "markdown",
   "metadata": {},
   "source": [
    "$\\textbf{QUESTION 1}$ \n",
    "\n",
    "Afin de travailler dans un repère inertiel, nous nous plaçons dans le centre de masse du système Terre-Lune. Dans ce référentiel, les équation du mouvement de la Terre et de la Lune sont respectivement données par :\n",
    "\n",
    "$m_t\\ddot{\\vec{x_t}}=-\\frac{Gm_tm_l}{r^2}\\vec{u_r}$\n",
    "\n",
    "$m_l\\ddot{\\vec{x_l}}=\\frac{Gm_tm_l}{r^2}\\vec{u_r}$\n",
    "\n",
    "On définit à présent une fonction reproduisant la méthode itérative de résolution RK4 pour l'équation différentielle d'ordre 2\n",
    "\n",
    "$$\\quad \\ddot{\\vec{r}}=-\\frac{G(m_l+m_t)}{r^3}\\vec{r} \\quad\\quad avec\\quad \\quad \\ddot{\\vec{r}}\\equiv\\ddot{\\vec{x_l}}-\\ddot{\\vec{x_t}}$$ \n",
    "\n",
    "décrivant le mouvement relatif de la Lune et de la Terre et ramenée à une équation d'ordre 1 pour le vecteur u. A chaque itération le vecteur u solution de l'équation différentielle et donc ses composantes ( position et vitesse relatives ) sont calculées à la valeur suivante du temps. La fonction retourne les vecteurs donnant les position et vitesse relatives pour chaque valeur du temps appartenant à l'intervalle déterminé par la grille.\n",
    "\n",
    "En deux dimensions, nous avons écrit :              \n",
    "\n",
    "$\\vec{r}=(x)\\vec{u_x}+(y)\\vec{u_y} \\quad$ pour la position relative, \n",
    "\n",
    "$\\vec{v}=(vx)\\vec{u_x}+(vy)\\vec{u_y} \\quad$ pour la vitesse relative, et\n",
    "\n",
    "$\\vec{a}=(ax)\\vec{u_x}+(ay)\\vec{u_y} \\quad$ avec \n",
    "$\\quad ax=-\\frac{G(m_t+m_l)}{(\\sqrt{x^2+y^2})^3}x \\quad (\\star)\\quad$ et $\\quad ay=-\\frac{G(m_t+m_l)}{(\\sqrt{x^2+y^2})^3}y\\quad (\\star\\star) \\quad$ pour l'accélération relative.\n",
    "\n",
    "\n",
    "\n",
    "La fonction applique Runge-Kutta 4 sur l'équation du=f(u) avec un pas de temps dt=1 où f(u) envoie chaque composante de u sur sa dérivée et les composantes de l'accélération sont remplacées par leurs expressions $(\\star)$ et $(\\star \\star)$ \n",
    "\n",
    "Runge-Kutta est appliquée sur chaque composante en même temps, les $\\quad k_i ,\\quad i=1...4\\quad$ sont donc des vecteurs à 4 composantes.\n",
    "\n",
    "Le vecteur u solution est raffiné à chaque pas de temps, et à chaque pas on introduit dans les composantes des positions, vitesses et accélérations leur valeur instantanée. On introduit ces nouvelles valeurs dans du et on recommence l'opération jusqu'à avoir parcouru toute la grille.\n",
    "\n",
    "La fonction retourne les vecteurs position, vitesse et accélération ayant pour composantes leur valeur à chaque pas de temps."
   ]
  },
  {
   "cell_type": "code",
   "execution_count": 3,
   "metadata": {
    "collapsed": true
   },
   "outputs": [],
   "source": [
    "def RungeKutta4(du,u,mt,vx,vy,x,y,O,dt):\n",
    "\n",
    "    for i in range (1,O):\n",
    "        k1=du\n",
    "        k2=numpy.array([vx[i-1],vy[i-1],-mt*G*(x[i-1]+dt/2*k1[0])/(((x[i-1]+dt/2*k1[0])**2+(y[i-1]+dt/2*k1[1])**2)**(3/2)),-mt*G*(y[i-1]+dt/2*k1[1])/(((y[i-1]+dt/2*k1[1])**2+(x[i-1]+dt/2*k1[0])**2)**(3/2))])\n",
    "        k3=numpy.array([vx[i-1],vy[i-1],-mt*G*(x[i-1]+dt/2*k2[0])/(((x[i-1]+dt/2*k2[0])**2+(y[i-1]+dt/2*k2[1])**2)**(3/2)),-mt*G*(y[i-1]+dt/2*k2[1])/(((x[i-1]+dt/2*k2[0])**2+(y[i-1]+dt/2*k2[1])**2)**(3/2))])\n",
    "        k4=numpy.array([vx[i-1],vy[i-1],-mt*G*(x[i-1]+dt*k3[0])/(((x[i-1]+dt*k3[0])**2+(y[i-1]+dt*k3[1])**2)**(3/2)),-mt*G*(y[i-1]+dt*k3[1])/(((x[i-1]+dt*k3[0])**2+(y[i-1]+dt*k3[1])**2)**(3/2))])\n",
    "        u= u + dt * (k1+2*k2+2*k3+k4)/6\n",
    "        x[i]=u[0]\n",
    "        vx[i]=u[2]\n",
    "        y[i]=u[1]\n",
    "        vy[i]=u[3]\n",
    "        du=numpy.array([vx[i],vy[i],-mt*G*x[i]/(((x[i])**2+(y[i])**2)**(3/2)),-mt*G*y[i]/(((x[i])**2+(y[i])**2)**(3/2))])\n",
    "    return (x,y,vx,vy)"
   ]
  },
  {
   "cell_type": "code",
   "execution_count": 4,
   "metadata": {},
   "outputs": [
    {
     "data": {
      "text/plain": [
       "(array([ -3.62600000e+08,  -3.62600000e+08,  -3.62600000e+08, ...,\n",
       "         -1.91659700e+08,  -1.91660580e+08,  -1.91661460e+08]),\n",
       " array([  0.00000000e+00,   1.08343497e+03,   2.16686995e+03, ...,\n",
       "         -3.18815167e+08,  -3.18814582e+08,  -3.18813996e+08]),\n",
       " array([  0.00000000e+00,   2.05207391e-03,   5.12085986e-03, ...,\n",
       "         -8.80230457e+02,  -8.80228954e+02,  -8.80227452e+02]),\n",
       " array([ 1083.434974  ,  1083.434974  ,  1083.43497398, ...,   585.5453562 ,\n",
       "          585.54785521,   585.55035421]))"
      ]
     },
     "execution_count": 4,
     "metadata": {},
     "output_type": "execute_result"
    }
   ],
   "source": [
    "\n",
    "RungeKutta4(du,u,mt+ml,vx,vy,x,y,O,dt)"
   ]
  },
  {
   "cell_type": "markdown",
   "metadata": {},
   "source": [
    "$\\textbf{QUESTION 2 ET 3}$\n",
    "\n",
    "On calcule le demi grand-axe a en [m] , le demi petit-axe b en [m], l'excentricité e et la période P en jours [j].\n",
    "\n",
    "Pour cela on extrait le moment t = p [s] auquel la lune a parcouru la moitié supérieure de l'ellipse représentant sa trajectoire. En effet, passé ce lieu, la composante y de sa position deviendra négative et la variable p n'est plus assignée. \n",
    "On trouve donc l'expression du demi grand-axe a et de la distance c entre le foyer Terre et le centre de l'ellipse grâce aux relations de symétrie. Ayant ces valeurs , on peut calculer \n",
    "\n",
    "- le demi petit-axe : $\\quad b=\\sqrt{a^2-c^2}$\n",
    "\n",
    "- l'excentricité : $\\quad e=\\frac{c}{a}$\n",
    "\n",
    "La période est donnée par le double du temps mis pour parcourir la moitié de l'ellipse ."
   ]
  },
  {
   "cell_type": "code",
   "execution_count": 5,
   "metadata": {},
   "outputs": [
    {
     "name": "stdout",
     "output_type": "stream",
     "text": [
      "383664897.799 383086183.363 21064897.7992 0.0549044176834 1175348 27.20712962962963\n"
     ]
    }
   ],
   "source": [
    "for i in range (O):\n",
    "    if y[i]>0 :\n",
    "        p=i\n",
    "l=x[p]\n",
    "a= (l- x0)/2\n",
    "c= (l+x0)/2\n",
    "bsq=a**2-c**2\n",
    "b=numpy.sqrt(bsq)\n",
    "e = c/a\n",
    "Prd=(p/86400)*2\n",
    "print (a,b,c,e,p,Prd)\n"
   ]
  },
  {
   "cell_type": "markdown",
   "metadata": {},
   "source": [
    "On trouve bien les valeurs :\n",
    "\n",
    "3.8366 10^7 m pour le demi grand-axe a\n",
    "\n",
    "3.8308 10^7 m pour le demi petit-axe b\n",
    "\n",
    "0.0549044176834 pour l'excentricité\n",
    "\n",
    "27.2071 jours pour la période\n"
   ]
  },
  {
   "cell_type": "markdown",
   "metadata": {},
   "source": [
    "Trajectoire de la Lune dans le plan xy"
   ]
  },
  {
   "cell_type": "code",
   "execution_count": 6,
   "metadata": {},
   "outputs": [
    {
     "data": {
      "text/plain": [
       "Text(0.5,0,'Position x')"
      ]
     },
     "execution_count": 6,
     "metadata": {},
     "output_type": "execute_result"
    },
    {
     "data": {
      "image/png": "[encoded data removed]",
      "text/plain": [
       "<matplotlib.figure.Figure at 0x196882419e8>"
      ]
     },
     "metadata": {},
     "output_type": "display_data"
    }
   ],
   "source": [
    "pyplot.plot(x, y, color='#003366', ls='-', lw=3)\n",
    "pyplot.ylabel('Position y')\n",
    "pyplot.xlabel('Position x')"
   ]
  },
  {
   "cell_type": "markdown",
   "metadata": {},
   "source": [
    "$\\textbf{Question 4}$\n",
    "\n",
    "On commence par définir une fonction qui effectue une seule incrémentation dans la méthode de Runge-Kutta, c'est notre \" Runge-Kutta step\" .\n",
    "On définit une fonction (get_diffgrid ) renvoyant la différence entre la solution avec la grille courante et la solution de référence, déterminée avec la grille fine $f_1$.\n",
    "On utilise 2 grilles de comparaison pour déterminer l'ordre de convergence, l'une moyenne, $f_2$ l'autre \"grossière\" $f_3$.\n",
    "Finalement , l'ordre de convergence est donné par la formule :\n",
    "\n",
    "$$p=\\frac{\\displaystyle\\log{(\\frac{f_3-f_2}{f_2-f_1})}}{\\log{r}}$$\n",
    "\n",
    "    \n"
   ]
  },
  {
   "cell_type": "markdown",
   "metadata": {},
   "source": [
    "$\\textbf{QUESTION 5}$\n",
    "\n",
    "On pose les conditions initiales du nouveau problème.\n",
    "\n",
    "On réinitialise les vecteurs u et du des positions, vitesses et accélérations de la lune."
   ]
  },
  {
   "cell_type": "code",
   "execution_count": 7,
   "metadata": {
    "collapsed": true
   },
   "outputs": [],
   "source": [
    "k=3000000\n",
    "O=int(k/dt)\n",
    "dtb=1\n",
    "N=86400*14\n",
    "n=int(N/dtb)\n",
    "\n",
    "xl0=max(x) # Composante x de la position initiale de la Lune en [m]\n",
    "yl0=0 # Composante y de la position initiale de la Lune en [m]\n",
    "vyl0=vy[p] # Composante y de la vitesse initiale de la Lune en [m.s-1]\n",
    "vxl0=vx[p] # Composante x de la vitesse initiale de la Lune en [m.s-1]\n",
    "vxa=numpy.zeros(n) # Composante x de la vitesse de l'astéroïde en [m.s-1]\n",
    "vya=numpy.zeros(n) # Composante y de la vitesse de l'astéroïde en [m.s-1]\n",
    "xa=numpy.zeros(n) # Composante x de la position de l'astéroïde en [m]\n",
    "ya=numpy.zeros(n) # Composante y de la position de l'astéroïde en [m]\n",
    "axa=numpy.zeros(n) # Composante x de l'accélération de l'astéroïde en [m.s-2]\n",
    "aya=numpy.zeros(n) # Composante y de l'accélération de l'astéroïde en [m.s-2]\n",
    "xa0=c # Composante x de la position initiale de l'astéroïde en [m]\n",
    "ya0=0 # Composante y de la position initiale de l'astéroïde en [m]\n",
    "ya[0]=ya0 # initialisation du vecteur de composantes y de la position\n",
    "xa[0]=xa0 # initialisation du vecteur de composantes x de la position\n",
    "vxa0=-500 # Composante x de la vitesse initiale de l'astéroïde en [m.s-1]\n",
    "vya0=500 # Composante y de la vitesse initiale de l'astéroïde en [m.s-1]\n",
    "vya[0]=vya0 # initialisation du vecteur de composantes y de la vitesse\n",
    "vxa[0]=vxa0 # initialisation du vecteur de composantes x de la vitesse\n",
    "axa0=-(mt)*G*xa0/(((xa0)**2+(ya0)**2))**3/2-(ml)*G*(xa0-xl0)/(((xa0-xl0)**2+(ya0-yl0)**2)**(3/2)) # Composante x de l'accélération initiale de l'astéroïde en [m.s-2]\n",
    "aya0=0 # Composante y de l'accélération initiale de l'astéroïde en [m.s-2]\n",
    "aya[0]=aya0 # initialisation du vecteur de composantes y de l'accélération\n",
    "axa[0]=axa0 # initialisation du vecteur de composantes x de l'accélération\n",
    "ua=numpy.array([xa0,ya0,vxa0,vya0]) # Vecteur position-vitesse de l'astéroïde initialisé en t=0\n",
    "dua=numpy.array([vxa0,vya0,axa0,aya0]) # Vecteur vitesse-accélération de l'astéroïde initialisé en t=0\n",
    "\n",
    "\n",
    "\n",
    "u=numpy.array([x0,y0,vx0,vy0])\n",
    "ax0=-mt*G/((x0)**2)\n",
    "du=numpy.array([vx0,vy0,ax0,ay0])\n",
    "vy=numpy.zeros(O)\n",
    "y=numpy.zeros(O)\n",
    "vx=numpy.zeros(O)\n",
    "x=numpy.zeros(O)\n",
    "ay=numpy.zeros(O)\n",
    "ax=numpy.zeros(O)\n",
    "vx[0]=vx0\n",
    "x[0]=x0\n",
    "y[0]=y0\n",
    "vy[0]=vy0\n"
   ]
  },
  {
   "cell_type": "markdown",
   "metadata": {},
   "source": [
    "Comme précédemment, on définit une fonction appliquant la méthode de Runge-Kutta afin de résoudre l'équation du mouvement de l'astéroïde soumis à l'attraction de la Terre et de la Lune :\n",
    "\n",
    "$$ \\left\\{\n",
    "          \\begin{array}{ll}\n",
    "          \\ddot{x}=-\\frac{m_tG}{(\\sqrt{x^2+y^2})^3}x - \\frac{m_lG}{(\\sqrt{(x-x_l)^2+(y-y_l)^2})^3}(x-x_l)\\\\\n",
    "          \\ddot{y}=-\\frac{m_tG}{(\\sqrt{x^2+y^2})^3}y - \\frac{m_lG}{(\\sqrt{(x-x_l)^2+(y-y_l)^2})^3}(y-y_l)\n",
    "          \\end{array}\n",
    "   \\right.\n",
    "   $$"
   ]
  },
  {
   "cell_type": "code",
   "execution_count": 8,
   "metadata": {
    "collapsed": true
   },
   "outputs": [],
   "source": [
    "def RungeKutta4Lune(du,u,vx,vy,x,y,axla,ayla,xl,yl,w,dt):\n",
    "    for i in range (1,w):\n",
    "        k1=du\n",
    "        k2=numpy.array([vx[i-1],vy[i-1],-mt*G*(x[i-1]+dt/2*k1[0])/(((x[i-1]+dt/2*k1[0])**2+(y[i-1]+dt/2*k1[1])**2)**(3/2))-ml*G*(x[i-1]-xl[i+p-1]+dt/2*k1[0])/(((x[i-1]-xl[i+p-1]+dt/2*k1[0])**2+(y[i-1]-yl[i+p-1]+dt/2*k1[1])**2)**(3/2)),-mt*G*(y[i-1]+dt/2*k1[3])/(((y[i-1]+dt/2*k1[1])**2+(x[i-1]+dt/2*k1[0])**2)**(3/2))-ml*G*(y[i-1]-yl[i+p-1]+dt/2*k1[1])/(((y[i-1]-yl[i+p-1]+dt/2*k1[1])**2+(x[i-1]-xl[i+p-1]+dt*k1[0])**2)**(3/2))])\n",
    "        k3=numpy.array([vx[i-1],vy[i-1],-mt*G*(x[i-1]+dt/2*k2[0])/(((x[i-1]+dt/2*k2[0])**2+(y[i-1]+dt/2*k2[1])**2)**(3/2))-ml*G*(x[i-1]-xl[i+p-1]+dt/2*k2[0])/(((x[i-1]-xl[i+p-1]+dt/2*k2[0])**2+(y[i-1]-yl[i+p-1]+dt/2*k2[1])**2)**(3/2)),-mt*G*(y[i-1]+dt/2*k2[3])/(((x[i-1]+dt/2*k2[0])**2+(y[i-1]+dt/2*k2[1])**2)**(3/2))-ml*G*(y[i-1]-yl[i+p-1]+dt/2*k2[1])/(((x[i-1]-xl[i+p-1]+dt/2*k2[0])**2+(y[i-1]-yl[i+p-1]+dt*k2[1])**2)**(3/2))])\n",
    "        k4=numpy.array([vx[i-1],vy[i-1],-mt*G*(x[i-1]+dt*k3[0])/(((x[i-1]+dt*k3[2])**2+(y[i-1]+dt*k3[1])**2)**(3/2))-ml*G*(x[i-1]-xl[i+p-1]+dt*k3[0])/(((x[i-1]-xl[i+p-1]+dt*k3[0])**2+(y[i-1]-yl[i+p-1]+dt*k3[1])**2)**(3/2)),-mt*G*(y[i-1]+dt*k3[1])/(((x[i-1]+dt*k3[2])**2+(y[i-1]+dt*k3[1])**2)**(3/2))-ml*G*(y[i-1]-yl[i+p-1]+dt*k3[1])/(((x[i-1]-xl[i+p-1]+dt*k3[0])**2+(y[i-1]-yl[i+p-1]+dt*k3[1])**2)**(3/2))])\n",
    "        u= u + dt * (k1+2*k2+2*k3+k4)/6\n",
    "        x[i]=u[0]\n",
    "        vx[i]=u[2]\n",
    "        y[i]=u[1]\n",
    "        vy[i]=u[3]\n",
    "        du=numpy.array([vx[i],vy[i],(-mt*G*x[i]/(((u[0])**2+(u[1])**2)**(3/2))-ml*G*(u[0]-xl[i+p])/(((u[0]-xl[i+p])**2+(u[1]-yl[i+p])**2)**(3/2))),(-mt*G*u[1]/(((u[0])**2+(u[1])**2)**(3/2))-ml*G*(u[1]-yl[i+p])/(((u[0]-xl[i+p])**2+(u[1]-yl[i+p])**2)**(3/2)))])\n",
    "        axla[i]=du[2]\n",
    "        ayla[i]=du[3]\n",
    "    return (x,y,vx,vy,axla,ayla)"
   ]
  },
  {
   "cell_type": "code",
   "execution_count": 9,
   "metadata": {},
   "outputs": [
    {
     "data": {
      "text/plain": [
       "(array([ -3.62600000e+08,  -3.62600000e+08,  -3.62600000e+08, ...,\n",
       "          1.04133264e+08,   1.04134253e+08,   1.04135242e+08]),\n",
       " array([  0.00000000e+00,   1.08343497e+03,   2.16686995e+03, ...,\n",
       "          3.74005833e+08,   3.74005614e+08,   3.74005395e+08]),\n",
       " array([  0.00000000e+00,   2.05207391e-03,   5.12085986e-03, ...,\n",
       "          9.89405091e+02,   9.89404373e+02,   9.89403655e+02]),\n",
       " array([ 1083.434974  ,  1083.434974  ,  1083.43497398, ...,  -219.0900272 ,\n",
       "         -219.09260605,  -219.0951849 ]))"
      ]
     },
     "execution_count": 9,
     "metadata": {},
     "output_type": "execute_result"
    }
   ],
   "source": [
    "\n",
    "RungeKutta4(du,u,mt+ml,vx,vy,x,y,O,dt)"
   ]
  },
  {
   "cell_type": "code",
   "execution_count": 10,
   "metadata": {},
   "outputs": [
    {
     "data": {
      "text/plain": [
       "Text(0.5,0,'Position x')"
      ]
     },
     "execution_count": 10,
     "metadata": {},
     "output_type": "execute_result"
    },
    {
     "data": {
      "image/png": "[encoded data removed]",
      "text/plain": [
       "<matplotlib.figure.Figure at 0x19691275588>"
      ]
     },
     "metadata": {},
     "output_type": "display_data"
    }
   ],
   "source": [
    "pyplot.plot(x, y, color='#003366', ls='-', lw=3)\n",
    "pyplot.ylabel('Position y')\n",
    "pyplot.xlabel('Position x')"
   ]
  },
  {
   "cell_type": "code",
   "execution_count": 11,
   "metadata": {},
   "outputs": [
    {
     "data": {
      "text/plain": [
       "(array([  2.10648978e+07,   2.10643978e+07,   2.10638971e+07, ...,\n",
       "          3.16290398e+10,   3.16290661e+10,   3.16290923e+10]),\n",
       " array([  0.00000000e+00,   5.00000000e+02,   9.99999996e+02, ...,\n",
       "         -5.38994845e+10,  -5.38995292e+10,  -5.38995740e+10]),\n",
       " array([  -500.        ,   -500.74851087,   -501.64677111, ...,\n",
       "         26254.75278272,  26254.75278266,  26254.75278261]),\n",
       " array([   500.        ,    499.99999645,    499.99997157, ...,\n",
       "        -44740.59416287, -44740.59416278, -44740.59416269]),\n",
       " array([  3.33162738e-05,  -8.98249540e-01,  -8.98292248e-01, ...,\n",
       "         -5.22865802e-08,  -5.22864934e-08,  -5.22864065e-08]),\n",
       " array([  0.00000000e+00,  -2.13223906e-05,  -4.26478604e-05, ...,\n",
       "          8.90907938e-08,   8.90906459e-08,   8.90904980e-08]))"
      ]
     },
     "execution_count": 11,
     "metadata": {},
     "output_type": "execute_result"
    }
   ],
   "source": [
    "\n",
    "RungeKutta4Lune(dua,ua,vxa,vya,xa,ya,axa,aya,x,y,n,dtb)"
   ]
  },
  {
   "cell_type": "code",
   "execution_count": 12,
   "metadata": {},
   "outputs": [
    {
     "data": {
      "text/plain": [
       "(-5000000.0, 30000000)"
      ]
     },
     "execution_count": 12,
     "metadata": {},
     "output_type": "execute_result"
    },
    {
     "data": {
      "image/png": "[encoded data removed]",
      "text/plain": [
       "<matplotlib.figure.Figure at 0x1969d564390>"
      ]
     },
     "metadata": {},
     "output_type": "display_data"
    }
   ],
   "source": [
    "pyplot.plot(xa,ya , color='#003366', ls='-', lw=3)\n",
    "pyplot.ylabel('Position y')\n",
    "pyplot.xlabel('Position x')\n",
    "pyplot.ylim(-0.5*10**7,2.5*10**6)\n",
    "pyplot.xlim(-0.5*10**7,3*10**7)\n",
    " "
   ]
  },
  {
   "cell_type": "code",
   "execution_count": 21,
   "metadata": {},
   "outputs": [
    {
     "name": "stdout",
     "output_type": "stream",
     "text": [
      "31629092345.4 -53899573963.8\n"
     ]
    }
   ],
   "source": [
    "print(xa[n-1],ya[n-1])\n"
   ]
  },
  {
   "cell_type": "markdown",
   "metadata": {
    "scrolled": true
   },
   "source": [
    "La position de l'astéroïde après 14 jours de voyage est donnée par les coordonnées dans le plan :\n",
    "\n",
    "$$ x_a=3,16291 10^{10} m \\quad \\quad y_a=-5,38996 10^{10} m $$"
   ]
  },
  {
   "cell_type": "code",
   "execution_count": null,
   "metadata": {
    "collapsed": true
   },
   "outputs": [],
   "source": []
  },
  {
   "cell_type": "code",
   "execution_count": null,
   "metadata": {
    "collapsed": true
   },
   "outputs": [],
   "source": []
  },
  {
   "cell_type": "code",
   "execution_count": null,
   "metadata": {
    "collapsed": true
   },
   "outputs": [],
   "source": []
  },
  {
   "cell_type": "code",
   "execution_count": null,
   "metadata": {
    "collapsed": true
   },
   "outputs": [],
   "source": []
  },
  {
   "cell_type": "code",
   "execution_count": null,
   "metadata": {
    "collapsed": true
   },
   "outputs": [],
   "source": []
  }
 ],
 "metadata": {
  "anaconda-cloud": {},
  "kernelspec": {
   "display_name": "Python 3",
   "language": "python",
   "name": "python3"
  },
  "language_info": {
   "codemirror_mode": {
    "name": "ipython",
    "version": 3
   },
   "file_extension": ".py",
   "mimetype": "text/x-python",
   "name": "python",
   "nbconvert_exporter": "python",
   "pygments_lexer": "ipython3",
   "version": "3.6.3"
  }
 },
 "nbformat": 4,
 "nbformat_minor": 1
}
